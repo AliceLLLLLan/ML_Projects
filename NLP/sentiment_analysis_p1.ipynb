{
 "cells": [
  {
   "cell_type": "markdown",
   "metadata": {
    "nbpresent": {
     "id": "f03cff31-83e1-4954-9b8e-7b22ffe5e08a"
    }
   },
   "source": [
    "# Sentiment Analysis P1\n",
    "\n",
    "In this notebook, you will learn how to use different packages in Python to build a complete pipeline for solving sentiment analysis problem. We will be using the simplest model, Mutinomial NB, in this class."
   ]
  },
  {
   "cell_type": "markdown",
   "metadata": {
    "nbpresent": {
     "id": "dadf36f5-94ca-4ad6-82e5-eee766bbe079"
    }
   },
   "source": [
    "## Pipeline"
   ]
  },
  {
   "cell_type": "markdown",
   "metadata": {
    "nbpresent": {
     "id": "e28f0511-3ad7-4f7b-a9c2-7667d0f738d3"
    }
   },
   "source": [
    "<img src=\"resources/pipeline.png\">"
   ]
  },
  {
   "cell_type": "markdown",
   "metadata": {
    "nbpresent": {
     "id": "4993d77d-4107-4ee2-b456-537ad84b6927"
    }
   },
   "source": [
    "## Get familiar with dataset"
   ]
  },
  {
   "cell_type": "code",
   "execution_count": 7,
   "metadata": {},
   "outputs": [
    {
     "name": "stdout",
     "output_type": "stream",
     "text": [
      "Collecting wget\n",
      "Installing collected packages: wget\n",
      "Successfully installed wget-3.2\n"
     ]
    }
   ],
   "source": [
    "#!pip install wget"
   ]
  },
  {
   "cell_type": "code",
   "execution_count": 8,
   "metadata": {
    "nbpresent": {
     "id": "bafb6e90-d675-4161-ab5d-23c386f8762d"
    }
   },
   "outputs": [],
   "source": [
    "import pandas as pd\n",
    "from utils import get_imdb_dataset#help to download IMDB dataset automatically\n",
    "\n",
    "pd.set_option('max_colwidth', 500)  # Set display column width to show more content"
   ]
  },
  {
   "cell_type": "code",
   "execution_count": 9,
   "metadata": {},
   "outputs": [
    {
     "name": "stdout",
     "output_type": "stream",
     "text": [
      "data already available, skip downloading.\n",
      "imdb loaded successfully.\n"
     ]
    }
   ],
   "source": [
    "# Load dataset, download if necessary\n",
    "train, test = get_imdb_dataset()"
   ]
  },
  {
   "cell_type": "code",
   "execution_count": 10,
   "metadata": {},
   "outputs": [
    {
     "data": {
      "text/html": [
       "<div>\n",
       "<style scoped>\n",
       "    .dataframe tbody tr th:only-of-type {\n",
       "        vertical-align: middle;\n",
       "    }\n",
       "\n",
       "    .dataframe tbody tr th {\n",
       "        vertical-align: top;\n",
       "    }\n",
       "\n",
       "    .dataframe thead th {\n",
       "        text-align: right;\n",
       "    }\n",
       "</style>\n",
       "<table border=\"1\" class=\"dataframe\">\n",
       "  <thead>\n",
       "    <tr style=\"text-align: right;\">\n",
       "      <th></th>\n",
       "      <th>text</th>\n",
       "      <th>sentiment</th>\n",
       "    </tr>\n",
       "  </thead>\n",
       "  <tbody>\n",
       "    <tr>\n",
       "      <th>23230</th>\n",
       "      <td>&lt;br /&gt;&lt;br /&gt;How this film ever got a 6 star average is beyond me. The script is so banal, and frankly an insult to whomevers life it is based upon. The cinematography comes straight from the slick world of advertising, and the talented Ridley Scott should be ashamed. Demi Moore however, shows none a surprise by participating in this film, if one looks at her tracklist. All in all, a \"high concept\" style film that even Don Simpson would be ashamed of.</td>\n",
       "      <td>neg</td>\n",
       "    </tr>\n",
       "    <tr>\n",
       "      <th>20156</th>\n",
       "      <td>If you haven't figured out what is going to happen in this film in the first five minutes then give it a couple more minutes. Lilia is a widow. She has been left on the shelf for too long and she wants to burst out. She has a teenage daughter which only highlights that she is not getting any younger. While checking up on her daughter she discovers a world she never dared...the cabaret, where she can belly dance in skimpy sequined outfits while men throw money at her. The film is very misogam...</td>\n",
       "      <td>neg</td>\n",
       "    </tr>\n",
       "    <tr>\n",
       "      <th>17208</th>\n",
       "      <td>An actor's first film is usually something one can afford to miss - it's often that first job where the lack of film experience by everyone involved is truly on display, and this film is no exception.&lt;br /&gt;&lt;br /&gt;But worse than that, even by 1982 standards this is so bad, it's hysterically funny. Filmed entirely in the Chicago area on an obviously small budget, most of the acting by the entire cast is stiff, wooden, and cartoonish - a cross between a high school play and bad community theater...</td>\n",
       "      <td>neg</td>\n",
       "    </tr>\n",
       "    <tr>\n",
       "      <th>19229</th>\n",
       "      <td>Quite possibly the nicest woman in show business, and the sexiest, Debbie gives another fine performance here. Although her work in American Nightmare was far superior, she is still worth watching in this film.&lt;br /&gt;&lt;br /&gt;The cast is filled with your typical Melrose Place types, chiseled features and seductive curves, that I had never seen before. Other than Debbie, Laura Nativo was the only actress I had seen before, in the similar Delta Delta Die.&lt;br /&gt;&lt;br /&gt;The plot centers around a group...</td>\n",
       "      <td>neg</td>\n",
       "    </tr>\n",
       "    <tr>\n",
       "      <th>808</th>\n",
       "      <td>Netflix should mention this short feature on the info for Silk Stockings. Superior in every way to that over-produced fluff. This had much better Cole Porter songs and lots more energy. Silk Stockings turned out to be a big disappointment. Fred was getting too old for this sort of thing, though the dances and Cyd are lovely. I will be on the watch for the Garbo--Melvyn Douglas version of Ninotchka. Was Peter Lorre ill during the making of Silk Stockings--he seems to be very passive in the mo...</td>\n",
       "      <td>pos</td>\n",
       "    </tr>\n",
       "  </tbody>\n",
       "</table>\n",
       "</div>"
      ],
      "text/plain": [
       "                                                                                                                                                                                                                                                                                                                                                                                                                                                                                                                      text  \\\n",
       "23230                                               <br /><br />How this film ever got a 6 star average is beyond me. The script is so banal, and frankly an insult to whomevers life it is based upon. The cinematography comes straight from the slick world of advertising, and the talented Ridley Scott should be ashamed. Demi Moore however, shows none a surprise by participating in this film, if one looks at her tracklist. All in all, a \"high concept\" style film that even Don Simpson would be ashamed of.   \n",
       "20156  If you haven't figured out what is going to happen in this film in the first five minutes then give it a couple more minutes. Lilia is a widow. She has been left on the shelf for too long and she wants to burst out. She has a teenage daughter which only highlights that she is not getting any younger. While checking up on her daughter she discovers a world she never dared...the cabaret, where she can belly dance in skimpy sequined outfits while men throw money at her. The film is very misogam...   \n",
       "17208  An actor's first film is usually something one can afford to miss - it's often that first job where the lack of film experience by everyone involved is truly on display, and this film is no exception.<br /><br />But worse than that, even by 1982 standards this is so bad, it's hysterically funny. Filmed entirely in the Chicago area on an obviously small budget, most of the acting by the entire cast is stiff, wooden, and cartoonish - a cross between a high school play and bad community theater...   \n",
       "19229  Quite possibly the nicest woman in show business, and the sexiest, Debbie gives another fine performance here. Although her work in American Nightmare was far superior, she is still worth watching in this film.<br /><br />The cast is filled with your typical Melrose Place types, chiseled features and seductive curves, that I had never seen before. Other than Debbie, Laura Nativo was the only actress I had seen before, in the similar Delta Delta Die.<br /><br />The plot centers around a group...   \n",
       "808    Netflix should mention this short feature on the info for Silk Stockings. Superior in every way to that over-produced fluff. This had much better Cole Porter songs and lots more energy. Silk Stockings turned out to be a big disappointment. Fred was getting too old for this sort of thing, though the dances and Cyd are lovely. I will be on the watch for the Garbo--Melvyn Douglas version of Ninotchka. Was Peter Lorre ill during the making of Silk Stockings--he seems to be very passive in the mo...   \n",
       "\n",
       "      sentiment  \n",
       "23230       neg  \n",
       "20156       neg  \n",
       "17208       neg  \n",
       "19229       neg  \n",
       "808         pos  "
      ]
     },
     "execution_count": 10,
     "metadata": {},
     "output_type": "execute_result"
    }
   ],
   "source": [
    "# Get a sample (head) of the data frame\n",
    "train.sample(5)"
   ]
  },
  {
   "cell_type": "code",
   "execution_count": 12,
   "metadata": {
    "nbpresent": {
     "id": "490495cc-6ecb-4415-b13c-4cd6ea380b6e"
    }
   },
   "outputs": [
    {
     "name": "stdout",
     "output_type": "stream",
     "text": [
      "train shape: (25000, 2)\n",
      "test  shape: (25000, 2)\n"
     ]
    }
   ],
   "source": [
    "print('train shape:', train.shape)\n",
    "print('test  shape:', test.shape)"
   ]
  },
  {
   "cell_type": "code",
   "execution_count": 13,
   "metadata": {
    "nbpresent": {
     "id": "8bda0af1-6a24-4cd9-97ec-d4bff3746662"
    }
   },
   "outputs": [
    {
     "data": {
      "text/plain": [
       "neg    12500\n",
       "pos    12500\n",
       "Name: sentiment, dtype: int64"
      ]
     },
     "execution_count": 13,
     "metadata": {},
     "output_type": "execute_result"
    }
   ],
   "source": [
    "# Statics on tags\n",
    "train['sentiment'].value_counts()"
   ]
  },
  {
   "cell_type": "markdown",
   "metadata": {
    "nbpresent": {
     "id": "21638fdf-767a-4ccf-9328-fc01542c924e"
    }
   },
   "source": [
    "See [Pandas DataFrame](http://pandas.pydata.org/pandas-docs/stable/10min.html?highlight=data%20frame) for more details."
   ]
  },
  {
   "cell_type": "markdown",
   "metadata": {
    "nbpresent": {
     "id": "e2e6ba14-7fea-4c02-88e9-f87688e70238"
    }
   },
   "source": [
    "## Preprocessing"
   ]
  },
  {
   "cell_type": "markdown",
   "metadata": {},
   "source": [
    "### Tokenization and Normalization\n",
    "\n",
    "For preprocessing, we will apply the following steps:\n",
    "\n",
    "1. Remove HTML tag (`<br />` in this case) from the review text\n",
    "2. Remove punctuations (replace with whitespace)\n",
    "3. Split review text into tokens\n",
    "4. Remove tokens that are considered as \"**stopwords**\"\n",
    "    stopwords: high frequency, low suggestion meaning \n",
    "5. For the rest, do lemmatization"
   ]
  },
  {
   "cell_type": "code",
   "execution_count": 14,
   "metadata": {},
   "outputs": [],
   "source": [
    "import nltk\n",
    "import string"
   ]
  },
  {
   "cell_type": "code",
   "execution_count": 15,
   "metadata": {},
   "outputs": [
    {
     "data": {
      "text/plain": [
       "'!\"#$%&\\'()*+,-./:;<=>?@[\\\\]^_`{|}~'"
      ]
     },
     "execution_count": 15,
     "metadata": {},
     "output_type": "execute_result"
    }
   ],
   "source": [
    "string.punctuation"
   ]
  },
  {
   "cell_type": "code",
   "execution_count": 16,
   "metadata": {
    "nbpresent": {
     "id": "0300719b-d5df-4b2a-8b30-97eb486dfd08"
    }
   },
   "outputs": [],
   "source": [
    "transtbl = str.maketrans(string.punctuation, ' ' * len(string.punctuation))\n",
    "#用空白替换标点符号\n",
    "stopwords = nltk.corpus.stopwords.words('english')\n",
    "lemmatizer = nltk.WordNetLemmatizer() #把不同形态的单词变回原型"
   ]
  },
  {
   "cell_type": "code",
   "execution_count": 17,
   "metadata": {
    "nbpresent": {
     "id": "dd71b757-9090-4aec-874f-3a972cef6b7c"
    }
   },
   "outputs": [
    {
     "data": {
      "text/plain": [
       "['i', 'me', 'my', 'myself', 'we', 'our', 'ours', 'ourselves', 'you', \"you're\"]"
      ]
     },
     "execution_count": 17,
     "metadata": {},
     "output_type": "execute_result"
    }
   ],
   "source": [
    "stopwords[:10]"
   ]
  },
  {
   "cell_type": "code",
   "execution_count": 18,
   "metadata": {
    "nbpresent": {
     "id": "c16c7bfa-f53a-4d52-bfab-cc1d4edad5ea"
    }
   },
   "outputs": [
    {
     "data": {
      "text/plain": [
       "'dedef'"
      ]
     },
     "execution_count": 18,
     "metadata": {},
     "output_type": "execute_result"
    }
   ],
   "source": [
    "'ababc'.translate(str.maketrans('abc','def'))\n",
    "#是一一对应关系"
   ]
  },
  {
   "cell_type": "code",
   "execution_count": 19,
   "metadata": {
    "nbpresent": {
     "id": "6cf378f3-f9a2-466c-8993-e8b08ae1959a"
    }
   },
   "outputs": [],
   "source": [
    "def preprocessing(line: str) -> str:\n",
    "    \"\"\"\n",
    "    Take a text input and return the preprocessed string.\n",
    "    i.e.: preprocessed tokens concatenated by whitespace\n",
    "    \"\"\"\n",
    "    line = line.replace('<br />', '').translate(transtbl)\n",
    "    \n",
    "    # list\n",
    "    tokens = [lemmatizer.lemmatize(t.lower(),'v')\n",
    "              for t in nltk.word_tokenize(line) \n",
    "              if t.lower() not in stopwords] #将变回原形的且不属于stopwords的单词变成小写,stopwords就会被删除\n",
    "    #返还空格键+处理后的词\n",
    "    return ' '.join(tokens)"
   ]
  },
  {
   "cell_type": "code",
   "execution_count": 20,
   "metadata": {
    "nbpresent": {
     "id": "a7867dff-ea5b-41c8-94fb-702b34ebdce1"
    }
   },
   "outputs": [
    {
     "data": {
      "text/plain": [
       "'buy several book yesterday really love'"
      ]
     },
     "execution_count": 20,
     "metadata": {},
     "output_type": "execute_result"
    }
   ],
   "source": [
    "test_str = \"I bought SEVERAL books yesterday<br /> and I really love them!\"\n",
    "preprocessing(test_str)\n",
    "#是否考虑加入感叹号的情感因素"
   ]
  },
  {
   "cell_type": "code",
   "execution_count": 21,
   "metadata": {
    "nbpresent": {
     "id": "8a025157-04cd-4a86-adbf-f9fba19a007b"
    }
   },
   "outputs": [],
   "source": [
    "#nltk.download()"
   ]
  },
  {
   "cell_type": "code",
   "execution_count": 22,
   "metadata": {},
   "outputs": [],
   "source": [
    "from tqdm._tqdm_notebook import tqdm_notebook\n",
    "tqdm_notebook.pandas()"
   ]
  },
  {
   "cell_type": "code",
   "execution_count": 23,
   "metadata": {},
   "outputs": [
    {
     "name": "stdout",
     "output_type": "stream",
     "text": [
      "Collecting pandarallel\n",
      "  Downloading https://files.pythonhosted.org/packages/5b/27/bfa87ad2c5c202834683db647084fe6908e5e6f54c67270fc3544beabffa/pandarallel-1.4.5.tar.gz\n",
      "Collecting dill (from pandarallel)\n",
      "Building wheels for collected packages: pandarallel\n",
      "  Building wheel for pandarallel (setup.py) ... \u001b[?25ldone\n",
      "\u001b[?25h  Stored in directory: /Users/AliceLan/Library/Caches/pip/wheels/fa/70/d9/6a27d7fdddb6a7c10af68fffaf6f0a96846c750a840280f7bc\n",
      "Successfully built pandarallel\n",
      "Installing collected packages: dill, pandarallel\n",
      "Successfully installed dill-0.3.1.1 pandarallel-1.4.5\n",
      "INFO: Pandarallel will run on 4 workers.\n",
      "INFO: Pandarallel will use standard multiprocessing data transfer (pipe) to transfer data between the main process and workers.\n"
     ]
    }
   ],
   "source": [
    "# If you're using macOS and Linux, you may run un-comment the following code to speed up the preprocessing\n",
    "\n",
    "#!pip install pandarallel\n",
    "from pandarallel import pandarallel\n",
    "pandarallel.initialize(progress_bar=True)"
   ]
  },
  {
   "cell_type": "code",
   "execution_count": null,
   "metadata": {},
   "outputs": [
    {
     "data": {
      "application/vnd.jupyter.widget-view+json": {
       "model_id": "5176c72eb725423a8aa6f991e7a0da7f",
       "version_major": 2,
       "version_minor": 0
      },
      "text/plain": [
       "VBox(children=(HBox(children=(IntProgress(value=0, description='0.00%', max=6250), Label(value='0 / 6250'))), …"
      ]
     },
     "metadata": {},
     "output_type": "display_data"
    }
   ],
   "source": [
    "# If you're using Windows, run the following, otherwise, comment this out, and run the second statement instead\n",
    "#for df in train, test:\n",
    "#    df['text_prep'] = df['text'].progress_apply(preprocessing)\n",
    "    \n",
    "# If you're using macOS or Linux, un-comment and run the following code\n",
    "for df in train, test:\n",
    "    df['text_prep'] = df['text'].parallel_apply(preprocessing)"
   ]
  },
  {
   "cell_type": "code",
   "execution_count": 27,
   "metadata": {},
   "outputs": [
    {
     "ename": "AssertionError",
     "evalue": "",
     "output_type": "error",
     "traceback": [
      "\u001b[0;31m---------------------------------------------------------------------------\u001b[0m",
      "\u001b[0;31mAssertionError\u001b[0m                            Traceback (most recent call last)",
      "\u001b[0;32m<ipython-input-27-0840c957becd>\u001b[0m in \u001b[0;36m<module>\u001b[0;34m\u001b[0m\n\u001b[1;32m      1\u001b[0m \u001b[0;32massert\u001b[0m \u001b[0mtrain\u001b[0m\u001b[0;34m.\u001b[0m\u001b[0mshape\u001b[0m \u001b[0;34m==\u001b[0m \u001b[0;34m(\u001b[0m\u001b[0;36m25000\u001b[0m\u001b[0;34m,\u001b[0m \u001b[0;36m3\u001b[0m\u001b[0;34m)\u001b[0m\u001b[0;34m\u001b[0m\u001b[0;34m\u001b[0m\u001b[0m\n\u001b[0;32m----> 2\u001b[0;31m \u001b[0;32massert\u001b[0m \u001b[0mtest\u001b[0m\u001b[0;34m.\u001b[0m\u001b[0mshape\u001b[0m \u001b[0;34m==\u001b[0m \u001b[0;34m(\u001b[0m\u001b[0;36m25000\u001b[0m\u001b[0;34m,\u001b[0m \u001b[0;36m3\u001b[0m\u001b[0;34m)\u001b[0m\u001b[0;34m\u001b[0m\u001b[0;34m\u001b[0m\u001b[0m\n\u001b[0m\u001b[1;32m      3\u001b[0m \u001b[0;31m#telling the program to test that condition, and immediately trigger an error if the condition is false.\u001b[0m\u001b[0;34m\u001b[0m\u001b[0;34m\u001b[0m\u001b[0;34m\u001b[0m\u001b[0m\n",
      "\u001b[0;31mAssertionError\u001b[0m: "
     ]
    }
   ],
   "source": [
    "assert train.shape == (25000, 3)\n",
    "assert test.shape == (25000, 3)\n",
    "#telling the program to test that condition, and immediately trigger an error if the condition is false."
   ]
  },
  {
   "cell_type": "code",
   "execution_count": null,
   "metadata": {},
   "outputs": [],
   "source": [
    "train.sample(2)\n",
    "#how to deal with 2 and 3?"
   ]
  },
  {
   "cell_type": "markdown",
   "metadata": {
    "nbpresent": {
     "id": "4eeefbfd-9a30-4e11-9647-daa037e26042"
    }
   },
   "source": [
    "### Build Vocabulary\n",
    "\n",
    "Instead of using `CountVectorizer` (N-gram) provided by sklearn directly, we will build the vocabulary on our own, so that we have more control over it.\n",
    "\n",
    "<span style=\"color:red\">**Tips:**</span>\n",
    "\n",
    "We can only use words in training data for building vocabulary"
   ]
  },
  {
   "cell_type": "code",
   "execution_count": null,
   "metadata": {
    "nbpresent": {
     "id": "f3befe75-935e-479c-b78e-a739199a7a95"
    }
   },
   "outputs": [],
   "source": [
    "all_words = [w for text in tqdm_notebook(train['text_prep']) \n",
    "             for w in text.split()]\n",
    "#for each text_prep, split all words"
   ]
  },
  {
   "cell_type": "code",
   "execution_count": null,
   "metadata": {
    "nbpresent": {
     "id": "e9e13deb-7fad-47d9-a5d3-9203e14e721c"
    }
   },
   "outputs": [],
   "source": [
    "# Use FreqDist to get count for each word\n",
    "voca = nltk.FreqDist(all_words)\n",
    "print(voca)"
   ]
  },
  {
   "cell_type": "code",
   "execution_count": null,
   "metadata": {
    "nbpresent": {
     "id": "e87733fb-34db-482b-a21a-acb88c5b3e93"
    }
   },
   "outputs": [],
   "source": [
    "voca.most_common(10)"
   ]
  },
  {
   "cell_type": "code",
   "execution_count": null,
   "metadata": {
    "nbpresent": {
     "id": "9fb9823c-b17b-4a6b-a478-ee9a923148e8"
    }
   },
   "outputs": [],
   "source": [
    "topwords = [word for word, _ in voca.most_common(10000)]\n",
    "topwords #as vocabullary"
   ]
  },
  {
   "cell_type": "markdown",
   "metadata": {
    "nbpresent": {
     "id": "9d86b026-19b4-47e1-a693-88f434dfb59e"
    }
   },
   "source": [
    "### Vectorizer\n",
    "\n",
    "For this section, we will try two ways to do vectorization: **BoW** (bag of words)(1-gram) and **BoW with Tfidf Transformer**."
   ]
  },
  {
   "cell_type": "markdown",
   "metadata": {},
   "source": [
    "词袋模型首先会进行分词，在分词之后，通过统计每个词在文本中出现的次数，我们就可以得到该文本基于词的特征，如果将各个文本样本的这些词与对应的词频放在一起，就是我们常说的向量化。\n",
    "\n",
    "向量化完毕后一般也会使用 TF-IDF 进行特征的权重修正，再将特征进行标准化. \n",
    "\n",
    "再进行一些其他的特征工程后，就可以将数据带入机器学习模型中计算。 \n",
    "\n",
    "词袋模型的三部曲：分词（tokenizing），统计修订词特征值（counting）与标准化（normalizing）。\n",
    "\n",
    "词袋模型有很大的局限性，因为它仅仅考虑了词频，没有考虑上下文的关系，因此会丢失一部分文本的语义。\n",
    "\n",
    "在词袋模型统计词频的时候，可以使用 sklearn 中的 CountVectorizer 来完成。"
   ]
  },
  {
   "cell_type": "code",
   "execution_count": 25,
   "metadata": {
    "nbpresent": {
     "id": "02fe7ca4-bcdf-4dc3-a066-4def28483597"
    }
   },
   "outputs": [],
   "source": [
    "from sklearn.feature_extraction.text import (\n",
    "    CountVectorizer, \n",
    "    TfidfTransformer, \n",
    "    TfidfVectorizer,)"
   ]
  },
  {
   "cell_type": "code",
   "execution_count": 25,
   "metadata": {
    "nbpresent": {
     "id": "eb6794ac-150b-41a7-8b7d-2e9934db9d74"
    }
   },
   "outputs": [
    {
     "data": {
      "text/plain": [
       "CountVectorizer(analyzer='word', binary=False, decode_error='strict',\n",
       "                dtype=<class 'numpy.int64'>, encoding='utf-8', input='content',\n",
       "                lowercase=True, max_df=1.0, max_features=None, min_df=1,\n",
       "                ngram_range=(1, 1), preprocessor=None, stop_words=None,\n",
       "                strip_accents=None, token_pattern='(?u)\\\\b\\\\w\\\\w+\\\\b',\n",
       "                tokenizer=None, vocabulary=None)"
      ]
     },
     "execution_count": 25,
     "metadata": {},
     "output_type": "execute_result"
    }
   ],
   "source": [
    "CountVectorizer()"
   ]
  },
  {
   "cell_type": "markdown",
   "metadata": {
    "nbpresent": {
     "id": "6c003f7f-2a78-47a2-ada2-a212f75b6517"
    }
   },
   "source": [
    "### Tf–idf Transformer"
   ]
  },
  {
   "cell_type": "markdown",
   "metadata": {
    "nbpresent": {
     "id": "6e37f508-9785-4250-a1e1-1354dfcff4c2"
    }
   },
   "source": [
    "- Tf: Term-Frequency\n",
    "- idf: Inverse Document-Frequency\n",
    "- Tf-idf = $tf(t,d) \\times idf(t)$\n",
    "\n",
    "$$\n",
    "idf(t) = log{\\frac{1 + n_d}{1 + df(d, t)}} + 1\n",
    "$$\n",
    "\n",
    "![](http://www.onemathematicalcat.org/Math/Algebra_II_obj/Graphics/log_base_gt1.gif)"
   ]
  },
  {
   "cell_type": "markdown",
   "metadata": {},
   "source": [
    "n_d = # of documents\n",
    "\n",
    "df = # of documents does a term show up to"
   ]
  },
  {
   "cell_type": "markdown",
   "metadata": {},
   "source": [
    "用于调整词频：结果有意义强烈的词，词频会被放大。\n",
    "\n",
    "无用多频的词，词频不变。"
   ]
  },
  {
   "cell_type": "markdown",
   "metadata": {
    "nbpresent": {
     "id": "5f349274-78e7-41be-968b-ca1a4fb80d50"
    }
   },
   "source": [
    "> Sentence 1: The boy **love** the toy <br>\n",
    "> Sentence 2: The boy **hate** the toy"
   ]
  },
  {
   "cell_type": "code",
   "execution_count": 26,
   "metadata": {
    "nbpresent": {
     "id": "12d18c1c-3899-4ea6-a677-2506a5f1d8a0"
    }
   },
   "outputs": [
    {
     "data": {
      "text/plain": [
       "TfidfTransformer(norm='l2', smooth_idf=False, sublinear_tf=False, use_idf=True)"
      ]
     },
     "execution_count": 26,
     "metadata": {},
     "output_type": "execute_result"
    }
   ],
   "source": [
    "transformer = TfidfTransformer(smooth_idf=False)#smooth_idf默认是true\n",
    "transformer"
   ]
  },
  {
   "cell_type": "code",
   "execution_count": 27,
   "metadata": {
    "nbpresent": {
     "id": "21537231-5ff9-4a7c-a54f-8ed911c88329"
    }
   },
   "outputs": [
    {
     "data": {
      "text/plain": [
       "<6x3 sparse matrix of type '<class 'numpy.float64'>'\n",
       "\twith 9 stored elements in Compressed Sparse Row format>"
      ]
     },
     "execution_count": 27,
     "metadata": {},
     "output_type": "execute_result"
    }
   ],
   "source": [
    "counts = [[3, 0, 1],\n",
    "          [2, 0, 0],\n",
    "          [3, 0, 0],\n",
    "          [4, 0, 0],\n",
    "          [3, 2, 0],\n",
    "          [3, 0, 2]]\n",
    "tfidf = transformer.fit_transform(counts)\n",
    "tfidf"
   ]
  },
  {
   "cell_type": "code",
   "execution_count": 32,
   "metadata": {
    "nbpresent": {
     "id": "90c1cbe3-c5b2-4e80-8c88-4f0ec45b2e8a"
    }
   },
   "outputs": [
    {
     "data": {
      "text/plain": [
       "array([[0.81940995, 0.        , 0.57320793],\n",
       "       [1.        , 0.        , 0.        ],\n",
       "       [1.        , 0.        , 0.        ],\n",
       "       [1.        , 0.        , 0.        ],\n",
       "       [0.47330339, 0.88089948, 0.        ],\n",
       "       [0.58149261, 0.        , 0.81355169]])"
      ]
     },
     "execution_count": 32,
     "metadata": {},
     "output_type": "execute_result"
    }
   ],
   "source": [
    "tfidf.toarray()"
   ]
  },
  {
   "cell_type": "markdown",
   "metadata": {
    "nbpresent": {
     "id": "a8bae77b-721c-4fa6-a10b-051574086736"
    }
   },
   "source": [
    "<span style=\"color:red\">**Tips:**</span>\n",
    "\n",
    "tf-idfs are computed slightly different in sklearn, where:\n",
    "\n",
    "$$\n",
    "idf(t) = log{\\frac{n_d}{1 + df(d, t)}}\n",
    "$$\n",
    "\n",
    "With `smooth_idf=True` set to `True`, the formula is:\n",
    "\n",
    "$$\n",
    "idf(t) = log{\\frac{n_d}{df(d, t)}} + 1\n",
    "$$\n",
    "\n",
    "\n",
    "It's always worth trying tfidf transformer for text classification problem. Since `CountVectorizer` and `TfidTransformer` are often chained together, sklearn also provide a class that combines the two steps together: `TfidfVectorizer`."
   ]
  },
  {
   "cell_type": "code",
   "execution_count": 34,
   "metadata": {
    "nbpresent": {
     "id": "e07ae14e-e1e8-4bcd-8986-da2d14b2d3ba"
    }
   },
   "outputs": [
    {
     "data": {
      "text/plain": [
       "TfidfVectorizer(analyzer='word', binary=False, decode_error='strict',\n",
       "                dtype=<class 'numpy.float64'>, encoding='utf-8',\n",
       "                input='content', lowercase=True, max_df=1.0, max_features=None,\n",
       "                min_df=1, ngram_range=(1, 1), norm='l2', preprocessor=None,\n",
       "                smooth_idf=True, stop_words=None, strip_accents=None,\n",
       "                sublinear_tf=False, token_pattern='(?u)\\\\b\\\\w\\\\w+\\\\b',\n",
       "                tokenizer=None, use_idf=True, vocabulary=None)"
      ]
     },
     "execution_count": 34,
     "metadata": {},
     "output_type": "execute_result"
    }
   ],
   "source": [
    "TfidfVectorizer()"
   ]
  },
  {
   "cell_type": "markdown",
   "metadata": {},
   "source": [
    "Let's take the sentences from the slide as an example:"
   ]
  },
  {
   "cell_type": "code",
   "execution_count": 35,
   "metadata": {
    "nbpresent": {
     "id": "a396d14b-1f38-44db-b25f-d457fe3998a7"
    }
   },
   "outputs": [],
   "source": [
    "t_corpus = ['the boy love the toy', 'the boy hate the toy']"
   ]
  },
  {
   "cell_type": "code",
   "execution_count": 36,
   "metadata": {},
   "outputs": [
    {
     "data": {
      "text/plain": [
       "array([[1, 0, 1, 2, 1],\n",
       "       [1, 1, 0, 2, 1]])"
      ]
     },
     "execution_count": 36,
     "metadata": {},
     "output_type": "execute_result"
    }
   ],
   "source": [
    "# Bag of words\n",
    "# Voc = ['boy', 'hate', 'love', 'the', 'toy']\n",
    "\n",
    "t_cnt_vec = CountVectorizer()\n",
    "t_cnt_vec.fit(' '.join(t_corpus).split())\n",
    "t_cnt_vec.transform(t_corpus).toarray()"
   ]
  },
  {
   "cell_type": "code",
   "execution_count": 37,
   "metadata": {
    "nbpresent": {
     "id": "a2e931ef-7434-4014-9f09-57a2b684f6d5"
    }
   },
   "outputs": [
    {
     "data": {
      "text/plain": [
       "array([[0.41508858, 0.        , 0.48828702, 0.6457389 , 0.41508858],\n",
       "       [0.41508858, 0.48828702, 0.        , 0.6457389 , 0.41508858]])"
      ]
     },
     "execution_count": 37,
     "metadata": {},
     "output_type": "execute_result"
    }
   ],
   "source": [
    "# Tfidf\n",
    "#更精准鞋\n",
    "t_tfidf_vec = TfidfVectorizer()\n",
    "t_tfidf_vec.fit(' '.join(t_corpus).split())\n",
    "t_tfidf_vec.transform(t_corpus).toarray()"
   ]
  },
  {
   "cell_type": "markdown",
   "metadata": {
    "nbpresent": {
     "id": "ee88a760-c8c0-4c21-92b0-bc6235086445"
    }
   },
   "source": [
    "### Vectorization / Featurization"
   ]
  },
  {
   "cell_type": "code",
   "execution_count": 38,
   "metadata": {},
   "outputs": [],
   "source": [
    "train_x, train_y = train['text_prep'], train['sentiment']\n",
    "test_x, test_y = test['text_prep'], test['sentiment']"
   ]
  },
  {
   "cell_type": "code",
   "execution_count": 40,
   "metadata": {
    "nbpresent": {
     "id": "7c6f787e-5013-466a-869d-bf4b76f681e9"
    }
   },
   "outputs": [],
   "source": [
    "# Use topwords as vocabulary\n",
    "tf_vec = TfidfVectorizer(vocabulary=topwords)\n",
    "#“vocabulary=topwords”通过定义词汇表，避免让Tfi自己学习一个没有topwords词频顺序的词汇表"
   ]
  },
  {
   "cell_type": "code",
   "execution_count": 41,
   "metadata": {
    "nbpresent": {
     "id": "64ba5bc9-96ea-4829-8a7e-cf5d01781087"
    }
   },
   "outputs": [],
   "source": [
    "train_features = tf_vec.fit_transform(train_x)\n",
    "#对训练用的文本用fit_transform, 对test的文本用transform\n",
    "#fit_transform is the combination of two functionsfit and transform on the same matrix\n",
    "test_features = tf_vec.transform(test_x)"
   ]
  },
  {
   "cell_type": "code",
   "execution_count": 42,
   "metadata": {
    "nbpresent": {
     "id": "71abd6d5-05a7-4075-bd7a-f49a07d2f1d7"
    }
   },
   "outputs": [],
   "source": [
    "assert train_features.shape == (25000, 10000)\n",
    "#长度和单词表长度一样\n",
    "assert test_features.shape == (25000, 10000)"
   ]
  },
  {
   "cell_type": "code",
   "execution_count": 43,
   "metadata": {},
   "outputs": [
    {
     "data": {
      "text/plain": [
       "array([[0.        , 0.12884974, 0.        , ..., 0.        , 0.        ,\n",
       "        0.        ]])"
      ]
     },
     "execution_count": 43,
     "metadata": {},
     "output_type": "execute_result"
    }
   ],
   "source": [
    "train_features[0][:50].toarray()"
   ]
  },
  {
   "cell_type": "markdown",
   "metadata": {
    "nbpresent": {
     "id": "4ecfbfb7-9b24-499f-a4b4-087e3183b7ee"
    }
   },
   "source": [
    "## Training\n",
    "\n",
    "### [Multinomial NB](http://scikit-learn.org/stable/modules/generated/sklearn.naive_bayes.MultinomialNB.html)\n",
    "\n",
    "The multinomial Naive Bayes classifier is suitable for **classification with discrete features** (e.g., word counts for text classification). The multinomial distribution normally requires integer feature counts. However, in practice, fractional counts such as tf-idf may also work."
   ]
  },
  {
   "cell_type": "code",
   "execution_count": 44,
   "metadata": {
    "nbpresent": {
     "id": "eef54d8f-0863-4285-bf5a-fa301dff8678"
    }
   },
   "outputs": [],
   "source": [
    "from sklearn.naive_bayes import MultinomialNB"
   ]
  },
  {
   "cell_type": "code",
   "execution_count": 47,
   "metadata": {
    "nbpresent": {
     "id": "08172515-7b9a-4a38-967b-fcea2ac03b4b"
    }
   },
   "outputs": [
    {
     "data": {
      "text/plain": [
       "MultinomialNB(alpha=1.0, class_prior=None, fit_prior=True)"
      ]
     },
     "execution_count": 47,
     "metadata": {},
     "output_type": "execute_result"
    }
   ],
   "source": [
    "mnb_model = MultinomialNB()\n",
    "mnb_model\n",
    "#understand all features\n",
    "#alpha=1.0 如果一个单词不在库里出现过，则我们假设它出现过alpha=1.0次\n",
    "#class_prior=None, fit_prior=True是关联的\n",
    "#当fit_prior=True，class_prior不被考虑。fit_prior=True意味着自动计算NB中Pr(pos)和Pr(neg)在documents中的比例\n",
    "#当fit_prior=False，class_prior则会开启手动输入模式，class_prior=0.8意味着pr(pos)=0.8"
   ]
  },
  {
   "cell_type": "code",
   "execution_count": 48,
   "metadata": {
    "nbpresent": {
     "id": "2e1f0988-c008-441d-a60a-797620243dce"
    }
   },
   "outputs": [
    {
     "name": "stdout",
     "output_type": "stream",
     "text": [
      "CPU times: user 94.3 ms, sys: 4.81 ms, total: 99.1 ms\n",
      "Wall time: 102 ms\n"
     ]
    },
    {
     "data": {
      "text/plain": [
       "MultinomialNB(alpha=1.0, class_prior=None, fit_prior=True)"
      ]
     },
     "execution_count": 48,
     "metadata": {},
     "output_type": "execute_result"
    }
   ],
   "source": [
    "%%time\n",
    "\n",
    "# Train Model\n",
    "#NB计算了一个频率表，没有迭代的过程，所以很快fit 好\n",
    "mnb_model.fit(train_features, train_y)"
   ]
  },
  {
   "cell_type": "markdown",
   "metadata": {},
   "source": [
    "可以试试SVM"
   ]
  },
  {
   "cell_type": "markdown",
   "metadata": {},
   "source": [
    "## Evaluation"
   ]
  },
  {
   "cell_type": "code",
   "execution_count": 49,
   "metadata": {},
   "outputs": [],
   "source": [
    "from sklearn import metrics"
   ]
  },
  {
   "cell_type": "code",
   "execution_count": 50,
   "metadata": {
    "nbpresent": {
     "id": "f1a1e3f4-225f-4a59-ab02-82c874289bb1"
    }
   },
   "outputs": [
    {
     "name": "stdout",
     "output_type": "stream",
     "text": [
      "['neg' 'pos' 'pos' ... 'neg' 'neg' 'neg']\n"
     ]
    }
   ],
   "source": [
    "# Predict on test set\n",
    "pred = mnb_model.predict(test_features)\n",
    "print(pred)"
   ]
  },
  {
   "cell_type": "code",
   "execution_count": 51,
   "metadata": {
    "nbpresent": {
     "id": "42e5eacf-8353-47df-93db-72ebe1a713a8"
    }
   },
   "outputs": [
    {
     "name": "stdout",
     "output_type": "stream",
     "text": [
      "Accuracy: 0.833120\n"
     ]
    }
   ],
   "source": [
    "print('Accuracy: %f' % metrics.accuracy_score(pred,test_y))"
   ]
  },
  {
   "cell_type": "markdown",
   "metadata": {},
   "source": [
    "<span style=\"color:red\">**Tips:**</span>\n",
    "\n",
    "It doesn't matter if you change the order of `pred` and `test_y` passed into `accuracy_score` since the metrics is symmetric. **However**, it is extremely important that you pass them in the correct order when you need to calculate per-class metrics like f-score."
   ]
  },
  {
   "cell_type": "code",
   "execution_count": 52,
   "metadata": {
    "nbpresent": {
     "id": "1dc8a4ad-96e4-41f3-aeda-446c0799c0da"
    }
   },
   "outputs": [
    {
     "name": "stdout",
     "output_type": "stream",
     "text": [
      "              precision    recall  f1-score   support\n",
      "\n",
      "         neg       0.81      0.87      0.84     12500\n",
      "         pos       0.86      0.80      0.83     12500\n",
      "\n",
      "    accuracy                           0.83     25000\n",
      "   macro avg       0.83      0.83      0.83     25000\n",
      "weighted avg       0.83      0.83      0.83     25000\n",
      "\n"
     ]
    }
   ],
   "source": [
    "# Pass in as keyword arguments to make sure the order is correct\n",
    "print(\n",
    "    metrics.classification_report(y_true=test_y, y_pred=pred))\n",
    "#neg recall=0.87, pos precision =0.86, means that the classifer tend to predict the outcome as neg\n",
    "#weighted average f1 score: the performance of the classifier taking consider of both neg and pos"
   ]
  },
  {
   "cell_type": "code",
   "execution_count": 53,
   "metadata": {
    "nbpresent": {
     "id": "fcf0efe6-291b-4d03-a7d1-2ec665279f1e"
    }
   },
   "outputs": [
    {
     "name": "stdout",
     "output_type": "stream",
     "text": [
      "              precision    recall  f1-score   support\n",
      "\n",
      "     class 0       0.50      1.00      0.67         1\n",
      "     class 1       0.00      0.00      0.00         1\n",
      "     class 2       1.00      0.67      0.80         3\n",
      "\n",
      "    accuracy                           0.60         5\n",
      "   macro avg       0.50      0.56      0.49         5\n",
      "weighted avg       0.70      0.60      0.61         5\n",
      "\n"
     ]
    }
   ],
   "source": [
    "# Example from sklearn documentation\n",
    "\n",
    "y_true = [0, 1, 2, 2, 2]\n",
    "y_pred = [0, 0, 2, 2, 1]\n",
    "target_names = ['class 0', 'class 1', 'class 2']\n",
    "print(metrics.classification_report(y_true, y_pred, target_names=target_names))"
   ]
  },
  {
   "cell_type": "markdown",
   "metadata": {
    "nbpresent": {
     "id": "1bcd8bdb-bdb9-401a-b9ce-e29ccc320f83"
    }
   },
   "source": [
    "## Predict new text"
   ]
  },
  {
   "cell_type": "code",
   "execution_count": 54,
   "metadata": {
    "nbpresent": {
     "id": "1c0addbf-c65c-4d4a-89aa-fab535a72d35"
    }
   },
   "outputs": [],
   "source": [
    "def predict_new(prep_func,  # func for preprocessing\n",
    "                vec,        # vectorizer\n",
    "                model,      # model\n",
    "                text):      # text\n",
    "    \n",
    "    prep_text = prep_func(text)\n",
    "    features = vec.transform([prep_text])#put prep_text into list, since transform and model expect their intake to be list\n",
    "    pred = model.predict(features)#output a list\n",
    "    return pred[0] "
   ]
  },
  {
   "cell_type": "code",
   "execution_count": 55,
   "metadata": {},
   "outputs": [],
   "source": [
    "from functools import partial\n",
    "\n",
    "predict_new_p1 = partial(predict_new, preprocessing, tf_vec, mnb_model)"
   ]
  },
  {
   "cell_type": "code",
   "execution_count": 57,
   "metadata": {
    "nbpresent": {
     "id": "609df79f-52c5-42af-b849-e745afa397f7"
    }
   },
   "outputs": [
    {
     "data": {
      "text/plain": [
       "'neg'"
      ]
     },
     "execution_count": 57,
     "metadata": {},
     "output_type": "execute_result"
    }
   ],
   "source": [
    "predict_new_p1('It looks bad')"
   ]
  },
  {
   "cell_type": "markdown",
   "metadata": {},
   "source": [
    "两个遗留问题：\\\n",
    "1.向量化bag of words带来的的稀疏性没有得到解决\\\n",
    "2.10000长度的单词表是不是最好的长度选择？"
   ]
  },
  {
   "cell_type": "markdown",
   "metadata": {},
   "source": [
    "topwords = [word for word, _ in voca.most_common(n)]"
   ]
  },
  {
   "cell_type": "markdown",
   "metadata": {
    "nbpresent": {
     "id": "5ae16efd-71c1-4465-a247-33af0bb9246a"
    }
   },
   "source": [
    "## Tunning hyper parameters"
   ]
  },
  {
   "cell_type": "code",
   "execution_count": 59,
   "metadata": {
    "nbpresent": {
     "id": "2d652ee5-fbc8-489b-8003-a79bd96d23db"
    }
   },
   "outputs": [],
   "source": [
    "def train_with_n_topwords(n: int, tfidf=False) -> tuple:\n",
    "    \"\"\"\n",
    "    Train and get the accuracy with different model settings\n",
    "    Args:\n",
    "        n: number of features (top frequent words in the vocabulary)\n",
    "        tfidf: whether do tf-idf re-weighting or not\n",
    "    Outputs:\n",
    "        tuple: (accuracy score, classifier, vectorizer)\n",
    "    \"\"\"\n",
    "    topwords = [word for word, _ in voca.most_common(n)]\n",
    "    \n",
    "    if tfidf:\n",
    "        vec = TfidfVectorizer(vocabulary=topwords)\n",
    "    else:\n",
    "        vec = CountVectorizer(vocabulary=topwords)\n",
    "    \n",
    "    # Generate feature vectors\n",
    "    train_features = vec.fit_transform(train_x)\n",
    "    test_features  = vec.transform(test_x)\n",
    "    \n",
    "    # NB\n",
    "    mnb_model = MultinomialNB()\n",
    "    mnb_model.fit(train_features, train_y)\n",
    "    \n",
    "    # Test predict\n",
    "    pred = mnb_model.predict(test_features)\n",
    "    \n",
    "    return metrics.accuracy_score(pred, test_y), mnb_model, vec"
   ]
  },
  {
   "cell_type": "code",
   "execution_count": 60,
   "metadata": {
    "nbpresent": {
     "id": "2505b8b5-0bba-4cca-8ba0-93cac0501e3e"
    }
   },
   "outputs": [
    {
     "data": {
      "text/plain": [
       "(0.82496,\n",
       " MultinomialNB(alpha=1.0, class_prior=None, fit_prior=True),\n",
       " TfidfVectorizer(analyzer='word', binary=False, decode_error='strict',\n",
       "                 dtype=<class 'numpy.float64'>, encoding='utf-8',\n",
       "                 input='content', lowercase=True, max_df=1.0, max_features=None,\n",
       "                 min_df=1, ngram_range=(1, 1), norm='l2', preprocessor=None,\n",
       "                 smooth_idf=True, stop_words=None, strip_accents=None,\n",
       "                 sublinear_tf=False, token_pattern='(?u)\\\\b\\\\w\\\\w+\\\\b',\n",
       "                 tokenizer=None, use_idf=True,\n",
       "                 vocabulary=['film', 'movie', 'one', 'make', 'like', 'see',\n",
       "                             'get', 'time', 'good', 'character', 'go', 'watch',\n",
       "                             'even', 'would', 'think', 'story', 'really', 'well',\n",
       "                             'show', 'look', 'much', 'say', 'end', 'know',\n",
       "                             'people', 'bad', 'also', 'first', 'great', 'give', ...]))"
      ]
     },
     "execution_count": 60,
     "metadata": {},
     "output_type": "execute_result"
    }
   ],
   "source": [
    "train_with_n_topwords(500, tfidf=True)"
   ]
  },
  {
   "cell_type": "code",
   "execution_count": 61,
   "metadata": {
    "nbpresent": {
     "id": "1790e0a2-cf5d-45e4-a19a-e24005be2db1"
    }
   },
   "outputs": [
    {
     "data": {
      "application/vnd.jupyter.widget-view+json": {
       "model_id": "eeeb7a69d69e474185bd5cb970abdb8e",
       "version_major": 2,
       "version_minor": 0
      },
      "text/plain": [
       "HBox(children=(IntProgress(value=0, max=19), HTML(value='')))"
      ]
     },
     "metadata": {},
     "output_type": "display_data"
    },
    {
     "name": "stdout",
     "output_type": "stream",
     "text": [
      "\n"
     ]
    }
   ],
   "source": [
    "possible_n = [500 * i for i in range(1, 20)]\n",
    "\n",
    "cnt_accuracies = []\n",
    "tfidf_accuracies = []\n",
    "\n",
    "for n in tqdm_notebook(possible_n):\n",
    "    cnt_accuracies.append(train_with_n_topwords(n)[0])\n",
    "    tfidf_accuracies.append(train_with_n_topwords(n, tfidf=True)[0])"
   ]
  },
  {
   "cell_type": "code",
   "execution_count": 62,
   "metadata": {
    "nbpresent": {
     "id": "4cb349db-39ae-4311-8521-1e055907abdd"
    }
   },
   "outputs": [
    {
     "data": {
      "text/plain": [
       "[<matplotlib.lines.Line2D at 0x13aa81dd0>]"
      ]
     },
     "execution_count": 62,
     "metadata": {},
     "output_type": "execute_result"
    },
    {
     "data": {
      "image/png": "[encoded data removed]",
      "text/plain": [
       "<Figure size 432x288 with 1 Axes>"
      ]
     },
     "metadata": {
      "image/png": {
       "height": 248,
       "width": 384
      },
      "needs_background": "light"
     },
     "output_type": "display_data"
    }
   ],
   "source": [
    "import matplotlib.pyplot as plt\n",
    "%matplotlib inline\n",
    "%config InlineBackend.figure_format='retina'\n",
    "\n",
    "plt.plot(possible_n, cnt_accuracies, label='Word Count')\n",
    "plt.plot(possible_n, tfidf_accuracies, label='Tf-idf')\n",
    "#单词太少时，向量化会丢失很多信息\n",
    "#单词太多时，每个单词的重要性都会被稀释掉"
   ]
  },
  {
   "cell_type": "markdown",
   "metadata": {
    "nbpresent": {
     "id": "fb560459-df66-41b6-8a64-842622e4aa79"
    }
   },
   "source": [
    "**Expected**:\n",
    "\n",
    "<img src=\"resources/plot.png\" width=\"400\">"
   ]
  },
  {
   "cell_type": "markdown",
   "metadata": {
    "nbpresent": {
     "id": "db997a18-0447-456d-a77f-d0f7a8c0b39a"
    }
   },
   "source": [
    "## Save model"
   ]
  },
  {
   "cell_type": "code",
   "execution_count": 63,
   "metadata": {},
   "outputs": [],
   "source": [
    "_, model, vec = train_with_n_topwords(3000, tfidf=True)"
   ]
  },
  {
   "cell_type": "code",
   "execution_count": 64,
   "metadata": {
    "nbpresent": {
     "id": "5558a033-1f08-45b4-8abe-ed974d685831"
    }
   },
   "outputs": [],
   "source": [
    "import pickle\n",
    "\n",
    "with open('tf_vec.pkl', 'wb') as fp:\n",
    "    pickle.dump(vec, fp)\n",
    "    \n",
    "with open('mnb_model.pkl', 'wb') as fp:\n",
    "    pickle.dump(model, fp)\n",
    "    \n",
    "with open('preprocessing.pkl', 'wb') as fp:\n",
    "    pickle.dump(preprocessing, fp)"
   ]
  },
  {
   "cell_type": "code",
   "execution_count": null,
   "metadata": {},
   "outputs": [],
   "source": []
  }
 ],
 "metadata": {
  "kernelspec": {
   "display_name": "Python 3",
   "language": "python",
   "name": "python3"
  },
  "language_info": {
   "codemirror_mode": {
    "name": "ipython",
    "version": 3
   },
   "file_extension": ".py",
   "mimetype": "text/x-python",
   "name": "python",
   "nbconvert_exporter": "python",
   "pygments_lexer": "ipython3",
   "version": "3.7.3"
  }
 },
 "nbformat": 4,
 "nbformat_minor": 1
}
