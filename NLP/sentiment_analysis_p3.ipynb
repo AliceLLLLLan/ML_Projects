{
 "cells": [
  {
   "cell_type": "markdown",
   "metadata": {},
   "source": [
    "# Sentiment Analysis P3\n",
    "\n",
    "In this notebook, you will learn how to build a deep LSTM network and how to insert a fixed pre-trained embedding layer in Keras"
   ]
  },
  {
   "cell_type": "markdown",
   "metadata": {},
   "source": [
    "<img src=\"resources/pipeline.png\" width=\"800px\">"
   ]
  },
  {
   "cell_type": "markdown",
   "metadata": {},
   "source": [
    "## Still Emoji"
   ]
  },
  {
   "cell_type": "code",
   "execution_count": 28,
   "metadata": {
    "code_folding": [
     0
    ]
   },
   "outputs": [],
   "source": [
    "# import \n",
    "import numpy as np\n",
    "import utils\n",
    "from tensorflow.keras.models import Model\n",
    "from tensorflow.keras.layers import Dense, Input, Dropout, LSTM, Activation, Embedding\n",
    "from tensorflow.keras.preprocessing import sequence\n",
    "\n",
    "import matplotlib.pyplot as plt\n",
    "%matplotlib inline\n",
    "%config InlineBackend.figure_format='retina'\n",
    "\n",
    "\n",
    "np.random.seed(1)"
   ]
  },
  {
   "cell_type": "code",
   "execution_count": 36,
   "metadata": {},
   "outputs": [],
   "source": [
    "train_x, test_x, train_y, test_y = utils.load_emoji()"
   ]
  },
  {
   "cell_type": "code",
   "execution_count": 37,
   "metadata": {},
   "outputs": [
    {
     "data": {
      "text/plain": [
       "(132,)"
      ]
     },
     "execution_count": 37,
     "metadata": {},
     "output_type": "execute_result"
    }
   ],
   "source": [
    "train_x.shape"
   ]
  },
  {
   "cell_type": "code",
   "execution_count": 38,
   "metadata": {
    "scrolled": true
   },
   "outputs": [
    {
     "data": {
      "text/plain": [
       "array(['I am proud of your achievements',\n",
       "       'It is the worst day in my life', 'Miss you so much',\n",
       "       'food is life'], dtype='<U52')"
      ]
     },
     "execution_count": 38,
     "metadata": {},
     "output_type": "execute_result"
    }
   ],
   "source": [
    "train_x[1:5]"
   ]
  },
  {
   "cell_type": "code",
   "execution_count": 39,
   "metadata": {},
   "outputs": [
    {
     "data": {
      "text/plain": [
       "array(['he did not answer\\t', 'he got a very nice raise\\t',\n",
       "       'she got me a nice present\\t', 'ha ha ha it was so funny\\t'],\n",
       "      dtype='<U38')"
      ]
     },
     "execution_count": 39,
     "metadata": {},
     "output_type": "execute_result"
    }
   ],
   "source": [
    "test_x[1:5]"
   ]
  },
  {
   "cell_type": "code",
   "execution_count": 40,
   "metadata": {},
   "outputs": [
    {
     "data": {
      "text/plain": [
       "array([3, 2, 2, 2])"
      ]
     },
     "execution_count": 40,
     "metadata": {},
     "output_type": "execute_result"
    }
   ],
   "source": [
    "test_y[1:5]"
   ]
  },
  {
   "cell_type": "code",
   "execution_count": 41,
   "metadata": {},
   "outputs": [
    {
     "data": {
      "text/plain": [
       "array([2, 3, 0, 4])"
      ]
     },
     "execution_count": 41,
     "metadata": {},
     "output_type": "execute_result"
    }
   ],
   "source": [
    "train_y[1:5]"
   ]
  },
  {
   "cell_type": "code",
   "execution_count": 42,
   "metadata": {},
   "outputs": [
    {
     "data": {
      "text/plain": [
       "(132,)"
      ]
     },
     "execution_count": 42,
     "metadata": {},
     "output_type": "execute_result"
    }
   ],
   "source": [
    "train_y.shape"
   ]
  },
  {
   "cell_type": "markdown",
   "metadata": {},
   "source": [
    "**Load pretrained word embeddings**\n",
    "\n",
    "2 dictionaries are loaded:\n",
    "\n",
    "- `word_to_index`: map a word to its index in the vocabulary\n",
    "    - Example:  `'word' -> 1234`\n",
    "\n",
    "- `word_to_vec_map`: map a word to its embedding\n",
    "    - Example: `'word' -> [0.1, 0.2, ..., 0.45]`\n",
    "\n",
    "When adding a custom embedding layer in Keras, we can only load the pretrained embedding as a big matrix instead of a dictionary. An index will help us locate the entry for a given word."
   ]
  },
  {
   "cell_type": "markdown",
   "metadata": {},
   "source": [
    "### Word Embeddings & One Hot"
   ]
  },
  {
   "cell_type": "code",
   "execution_count": 43,
   "metadata": {},
   "outputs": [
    {
     "name": "stdout",
     "output_type": "stream",
     "text": [
      "data already available, skip downloading.\n",
      "loading glove... this may take a while...\n",
      "glove loaded successfully.\n"
     ]
    }
   ],
   "source": [
    "word_to_index, word_to_vec_map = utils.load_glove_vecs()\n",
    "#connect the indices in the dataset to the dictionary in the package"
   ]
  },
  {
   "cell_type": "code",
   "execution_count": 44,
   "metadata": {},
   "outputs": [],
   "source": [
    "utils.sentences_to_indices?"
   ]
  },
  {
   "cell_type": "code",
   "execution_count": 45,
   "metadata": {},
   "outputs": [
    {
     "data": {
      "text/plain": [
       "array([[185457., 222471., 193716.,      0.,      0.,      0.,      0.,\n",
       "             0.,      0.,      0.],\n",
       "       [185457., 174339., 193716.,      0.,      0.,      0.,      0.,\n",
       "             0.,      0.,      0.]])"
      ]
     },
     "execution_count": 45,
     "metadata": {},
     "output_type": "execute_result"
    }
   ],
   "source": [
    "# Convert word to the index in vocabulary\n",
    "utils.sentences_to_indices(\n",
    "    np.array([\"i like it\", \"i hate it\"]),  # array of test sentences\n",
    "    word_to_index, \n",
    "    max_len = 10)#max_len以最长的句子有几个单词为准\n",
    "#Return a array of indices of a given sentence. The sentence will be trimed/padded to max_len\n",
    "#utils.sentences_to_indices(X, word_to_index, max_len)\n",
    "#Return: indices (np.ndarray): the shape is (m, max_len) where m is the number of sentences建立到单词表的索引，不是embeddng\n",
    "#word index->mapped to word_to_index->connect to word_to_vec_map later"
   ]
  },
  {
   "cell_type": "code",
   "execution_count": 46,
   "metadata": {},
   "outputs": [
    {
     "name": "stdout",
     "output_type": "stream",
     "text": [
      "max number of words in a sentence: 10\n"
     ]
    }
   ],
   "source": [
    "maxlen = max([len(x.split()) for x in train_x])\n",
    "print('max number of words in a sentence:', maxlen)"
   ]
  },
  {
   "cell_type": "code",
   "execution_count": 27,
   "metadata": {},
   "outputs": [],
   "source": [
    "utils.convert_to_one_hot?"
   ]
  },
  {
   "cell_type": "code",
   "execution_count": 47,
   "metadata": {},
   "outputs": [],
   "source": [
    "# Convert training/testing features into index list\n",
    "train_x = utils.sentences_to_indices(train_x, word_to_index, maxlen)\n",
    "test_x = utils.sentences_to_indices(test_x, word_to_index, maxlen)\n",
    "\n",
    "# Convert training/testing labels into one hot array\n",
    "train_y = utils.convert_to_one_hot(train_y, C = 5)\n",
    "test_y = utils.convert_to_one_hot(test_y, C = 5)"
   ]
  },
  {
   "cell_type": "code",
   "execution_count": 49,
   "metadata": {},
   "outputs": [],
   "source": [
    "# Check to make sure the shape looks good\n",
    "assert train_x.shape == (132, maxlen)\n",
    "assert train_y.shape == (132, 5)"
   ]
  },
  {
   "cell_type": "markdown",
   "metadata": {},
   "source": [
    "### Embedding Layer\n",
    "\n",
    "We need to build a embedding matrix where each row represent a word vector."
   ]
  },
  {
   "cell_type": "code",
   "execution_count": 51,
   "metadata": {},
   "outputs": [],
   "source": [
    "#自己写一个embedding layer嵌入到神经网络中\n",
    "\n",
    "def pretrained_embedding_layer(word_to_index, word_to_vec_map):\n",
    "    \"\"\"\n",
    "    Build and return a Keras Embedding Layer given word_to_vec mapping and word_to_index mapping\n",
    "    \n",
    "    Args:\n",
    "        word_to_index (dict[str->int]): map from a word to its index in vocabulary\n",
    "        word_to_vec_map (dict[str->np.ndarray]): map from a word to a vector with shape (N,) where N is the length of a word vector (50 in our case)\n",
    "\n",
    "    Return:\n",
    "        Keras.layers.Embedding: Embedding layer\n",
    "    \"\"\"\n",
    "    \n",
    "    # Keras requires vocab length start from index 1\n",
    "    vocab_len = len(word_to_index) + 1  \n",
    "    emb_dim = list(word_to_vec_map.values())[0].shape[0]\n",
    "    \n",
    "    # Initialize the embedding matrix as a numpy array of zeros of shape (vocab_len, dimensions of word vectors = emb_dim)\n",
    "    emb_matrix = np.zeros((vocab_len, emb_dim))\n",
    "    \n",
    "    # Set each row \"index\" of the embedding matrix to be the word vector representation of the \"index\"th word of the vocabulary\n",
    "    for word, index in word_to_index.items():\n",
    "        emb_matrix[index, :] = word_to_vec_map[word]\n",
    "\n",
    "    # Define Keras embedding layer with the correct output/input sizes, make it trainable. Use Embedding(...). Make sure to set trainable=False. \n",
    "    return Embedding(\n",
    "        input_dim=vocab_len, #输入是单词表的长度\n",
    "        output_dim=emb_dim, #输出为具体的embedding的长度，在这为50\n",
    "        trainable=False,  # Indicating this is a pre-trained embedding 固定embedding这一层不要再训练的时候改变\n",
    "        weights=[emb_matrix]) #每一行对应句子中每一个单词对应的embedding，#of words x length of embedding"
   ]
  },
  {
   "cell_type": "markdown",
   "metadata": {},
   "source": [
    "For more information on how to define a pre-trained embedding layer in Keras, please refer to [this post](https://blog.keras.io/using-pre-trained-word-embeddings-in-a-keras-model.html)."
   ]
  },
  {
   "cell_type": "markdown",
   "metadata": {},
   "source": [
    "### Build the Model"
   ]
  },
  {
   "cell_type": "markdown",
   "metadata": {},
   "source": [
    "<img src=\"resources/deep_lstm.png\" style=\"width:700px;height:400px;\"> <br>\n",
    "<caption><center> A 2-layer LSTM sequence classifier. </center></caption>"
   ]
  },
  {
   "cell_type": "code",
   "execution_count": 52,
   "metadata": {},
   "outputs": [],
   "source": [
    "def build_emoji_model(input_dim, word_to_index, word_to_vec_map):\n",
    "    \"\"\"\n",
    "    Build and return the Keras model\n",
    "    \n",
    "    Args:\n",
    "        input_dim: The dim of input layer\n",
    "        word_to_vec_map (dict[str->np.ndarray]): map from a word to a vector with shape (N,) where N is the length of a word vector (50 in our case)\n",
    "        word_to_index (dict[str->int]): map from a word to its index in vocabulary\n",
    "    \n",
    "    Returns:\n",
    "        Keras.models.Model: 2-layer LSTM model\n",
    "    \"\"\"\n",
    "    \n",
    "    # Input layer\n",
    "    sentence_indices = Input(shape=(input_dim,), dtype='int32')\n",
    "    \n",
    "    # Embedding layer\n",
    "    embedding_layer = pretrained_embedding_layer(word_to_index, word_to_vec_map)\n",
    "    embeddings = embedding_layer(sentence_indices)   \n",
    "    \n",
    "    # 2-layer LSTM\n",
    "    X = LSTM(128, return_sequences=True, recurrent_dropout=0.5)(embeddings)  # N->N RNN \n",
    "    #128-LSTM内部用来储存信息的向量的长度\n",
    "    #return_sequences=True 如果不为true 则仅保留做后一个黄色盒子\n",
    "    #dropout是一个常见的用来防治overfitting 的手段 0.3 0.5都常见\n",
    "    X = Dropout(rate=0.8)(X)\n",
    "    X = LSTM(128, recurrent_dropout=0.5)(X)  # N -> 1 RNN\n",
    "    X = Dropout(rate=0.8)(X)\n",
    "    X = Dense(5, activation='softmax')(X)\n",
    "    #recurencee dropout横向 dropout纵向\n",
    "    # Create and return model\n",
    "    model = Model(inputs=sentence_indices, outputs=X)\n",
    "    \n",
    "    return model"
   ]
  },
  {
   "cell_type": "code",
   "execution_count": 56,
   "metadata": {},
   "outputs": [
    {
     "name": "stdout",
     "output_type": "stream",
     "text": [
      "WARNING:tensorflow:Large dropout rate: 0.8 (>0.5). In TensorFlow 2.x, dropout() uses dropout rate instead of keep_prob. Please ensure that this is intended.\n",
      "WARNING:tensorflow:Large dropout rate: 0.8 (>0.5). In TensorFlow 2.x, dropout() uses dropout rate instead of keep_prob. Please ensure that this is intended.\n",
      "Model: \"model_1\"\n",
      "_________________________________________________________________\n",
      "Layer (type)                 Output Shape              Param #   \n",
      "=================================================================\n",
      "input_2 (InputLayer)         [(None, 10)]              0         \n",
      "_________________________________________________________________\n",
      "embedding_1 (Embedding)      (None, 10, 50)            20000050  \n",
      "_________________________________________________________________\n",
      "lstm_2 (LSTM)                (None, 10, 128)           91648     \n",
      "_________________________________________________________________\n",
      "dropout_2 (Dropout)          (None, 10, 128)           0         \n",
      "_________________________________________________________________\n",
      "lstm_3 (LSTM)                (None, 128)               131584    \n",
      "_________________________________________________________________\n",
      "dropout_3 (Dropout)          (None, 128)               0         \n",
      "_________________________________________________________________\n",
      "dense_1 (Dense)              (None, 5)                 645       \n",
      "=================================================================\n",
      "Total params: 20,223,927\n",
      "Trainable params: 223,877\n",
      "Non-trainable params: 20,000,050\n",
      "_________________________________________________________________\n"
     ]
    }
   ],
   "source": [
    "emoji_model = build_emoji_model(\n",
    "    maxlen, \n",
    "    word_to_index, \n",
    "    word_to_vec_map)\n",
    "\n",
    "emoji_model.summary()\n",
    "#since most variables of 20,223,927 are from embedding, we only need to train 223,877 variables"
   ]
  },
  {
   "cell_type": "code",
   "execution_count": 57,
   "metadata": {},
   "outputs": [],
   "source": [
    "emoji_model.compile(\n",
    "    loss='categorical_crossentropy', \n",
    "    optimizer='adam', \n",
    "    metrics=['accuracy'])"
   ]
  },
  {
   "cell_type": "code",
   "execution_count": 58,
   "metadata": {},
   "outputs": [
    {
     "name": "stdout",
     "output_type": "stream",
     "text": [
      "Train on 132 samples, validate on 56 samples\n",
      "Epoch 1/100\n",
      "132/132 [==============================] - 2s 14ms/sample - loss: 1.6192 - acc: 0.2121 - val_loss: 1.5702 - val_acc: 0.3036\n",
      "Epoch 2/100\n",
      "132/132 [==============================] - 0s 1ms/sample - loss: 1.5747 - acc: 0.2727 - val_loss: 1.5495 - val_acc: 0.3036\n",
      "Epoch 3/100\n",
      "132/132 [==============================] - 0s 2ms/sample - loss: 1.5489 - acc: 0.3333 - val_loss: 1.5360 - val_acc: 0.3214\n",
      "Epoch 4/100\n",
      "132/132 [==============================] - 0s 1ms/sample - loss: 1.5589 - acc: 0.2955 - val_loss: 1.5208 - val_acc: 0.3571\n",
      "Epoch 5/100\n",
      "132/132 [==============================] - 0s 2ms/sample - loss: 1.5243 - acc: 0.3561 - val_loss: 1.5033 - val_acc: 0.4464\n",
      "Epoch 6/100\n",
      "132/132 [==============================] - 0s 1ms/sample - loss: 1.5302 - acc: 0.2576 - val_loss: 1.4868 - val_acc: 0.4821\n",
      "Epoch 7/100\n",
      "132/132 [==============================] - 0s 2ms/sample - loss: 1.4928 - acc: 0.3788 - val_loss: 1.4649 - val_acc: 0.5536\n",
      "Epoch 8/100\n",
      "132/132 [==============================] - 0s 1ms/sample - loss: 1.4655 - acc: 0.3939 - val_loss: 1.4406 - val_acc: 0.5000\n",
      "Epoch 9/100\n",
      "132/132 [==============================] - 0s 2ms/sample - loss: 1.4304 - acc: 0.4091 - val_loss: 1.4107 - val_acc: 0.4643\n",
      "Epoch 10/100\n",
      "132/132 [==============================] - 0s 2ms/sample - loss: 1.3752 - acc: 0.4091 - val_loss: 1.3764 - val_acc: 0.4821\n",
      "Epoch 11/100\n",
      "132/132 [==============================] - 0s 2ms/sample - loss: 1.3655 - acc: 0.3788 - val_loss: 1.3402 - val_acc: 0.5179\n",
      "Epoch 12/100\n",
      "132/132 [==============================] - 0s 2ms/sample - loss: 1.3356 - acc: 0.3788 - val_loss: 1.2795 - val_acc: 0.5357\n",
      "Epoch 13/100\n",
      "132/132 [==============================] - 0s 2ms/sample - loss: 1.2954 - acc: 0.4318 - val_loss: 1.2187 - val_acc: 0.6250\n",
      "Epoch 14/100\n",
      "132/132 [==============================] - 0s 2ms/sample - loss: 1.2405 - acc: 0.5606 - val_loss: 1.1610 - val_acc: 0.6786\n",
      "Epoch 15/100\n",
      "132/132 [==============================] - 0s 2ms/sample - loss: 1.1750 - acc: 0.5530 - val_loss: 1.1045 - val_acc: 0.6607\n",
      "Epoch 16/100\n",
      "132/132 [==============================] - 0s 2ms/sample - loss: 1.1334 - acc: 0.5227 - val_loss: 1.0613 - val_acc: 0.7143\n",
      "Epoch 17/100\n",
      "132/132 [==============================] - 0s 2ms/sample - loss: 1.0989 - acc: 0.5303 - val_loss: 1.0040 - val_acc: 0.6429\n",
      "Epoch 18/100\n",
      "132/132 [==============================] - 0s 2ms/sample - loss: 1.0800 - acc: 0.5758 - val_loss: 0.9490 - val_acc: 0.7143\n",
      "Epoch 19/100\n",
      "132/132 [==============================] - 0s 2ms/sample - loss: 0.9627 - acc: 0.6591 - val_loss: 0.9129 - val_acc: 0.6786\n",
      "Epoch 20/100\n",
      "132/132 [==============================] - 0s 2ms/sample - loss: 0.9864 - acc: 0.5909 - val_loss: 0.8475 - val_acc: 0.6786\n",
      "Epoch 21/100\n",
      "132/132 [==============================] - 0s 2ms/sample - loss: 0.9340 - acc: 0.6061 - val_loss: 0.8138 - val_acc: 0.7321\n",
      "Epoch 22/100\n",
      "132/132 [==============================] - 0s 2ms/sample - loss: 0.8780 - acc: 0.6364 - val_loss: 0.7493 - val_acc: 0.6964\n",
      "Epoch 23/100\n",
      "132/132 [==============================] - 0s 2ms/sample - loss: 0.8550 - acc: 0.6970 - val_loss: 0.7299 - val_acc: 0.6964\n",
      "Epoch 24/100\n",
      "132/132 [==============================] - 0s 2ms/sample - loss: 0.8242 - acc: 0.6818 - val_loss: 0.6776 - val_acc: 0.7500\n",
      "Epoch 25/100\n",
      "132/132 [==============================] - 0s 2ms/sample - loss: 0.7870 - acc: 0.7121 - val_loss: 0.6523 - val_acc: 0.7857\n",
      "Epoch 26/100\n",
      "132/132 [==============================] - 0s 2ms/sample - loss: 0.7116 - acc: 0.7348 - val_loss: 0.6356 - val_acc: 0.7500\n",
      "Epoch 27/100\n",
      "132/132 [==============================] - 0s 2ms/sample - loss: 0.6646 - acc: 0.7955 - val_loss: 0.6248 - val_acc: 0.7857\n",
      "Epoch 28/100\n",
      "132/132 [==============================] - 0s 2ms/sample - loss: 0.6303 - acc: 0.7576 - val_loss: 0.6716 - val_acc: 0.7500\n",
      "Epoch 29/100\n",
      "132/132 [==============================] - 0s 2ms/sample - loss: 0.7463 - acc: 0.6818 - val_loss: 0.6342 - val_acc: 0.7857\n",
      "Epoch 30/100\n",
      "132/132 [==============================] - 0s 2ms/sample - loss: 0.5653 - acc: 0.7955 - val_loss: 0.5870 - val_acc: 0.8036\n",
      "Epoch 31/100\n",
      "132/132 [==============================] - 0s 2ms/sample - loss: 0.5400 - acc: 0.8182 - val_loss: 0.5349 - val_acc: 0.7857\n",
      "Epoch 32/100\n",
      "132/132 [==============================] - 0s 2ms/sample - loss: 0.5800 - acc: 0.7879 - val_loss: 0.5832 - val_acc: 0.7500\n",
      "Epoch 33/100\n",
      "132/132 [==============================] - 0s 2ms/sample - loss: 0.5692 - acc: 0.8182 - val_loss: 0.4484 - val_acc: 0.8393\n",
      "Epoch 34/100\n",
      "132/132 [==============================] - 0s 2ms/sample - loss: 0.5298 - acc: 0.7424 - val_loss: 0.4352 - val_acc: 0.8214\n",
      "Epoch 35/100\n",
      "132/132 [==============================] - 0s 2ms/sample - loss: 0.6843 - acc: 0.7652 - val_loss: 0.6087 - val_acc: 0.7321\n",
      "Epoch 36/100\n",
      "132/132 [==============================] - 0s 2ms/sample - loss: 0.4861 - acc: 0.8182 - val_loss: 0.5184 - val_acc: 0.8036\n",
      "Epoch 37/100\n",
      "132/132 [==============================] - 0s 2ms/sample - loss: 0.5021 - acc: 0.8182 - val_loss: 0.4951 - val_acc: 0.8036\n",
      "Epoch 38/100\n",
      "132/132 [==============================] - 0s 2ms/sample - loss: 0.4591 - acc: 0.8182 - val_loss: 0.4552 - val_acc: 0.8214\n",
      "Epoch 39/100\n",
      "132/132 [==============================] - 0s 2ms/sample - loss: 0.4613 - acc: 0.8561 - val_loss: 0.3995 - val_acc: 0.8571\n",
      "Epoch 40/100\n",
      "132/132 [==============================] - 0s 2ms/sample - loss: 0.5326 - acc: 0.8030 - val_loss: 0.3575 - val_acc: 0.8393\n",
      "Epoch 41/100\n",
      "132/132 [==============================] - 0s 2ms/sample - loss: 0.4512 - acc: 0.8333 - val_loss: 0.4144 - val_acc: 0.8393\n",
      "Epoch 42/100\n",
      "132/132 [==============================] - 0s 2ms/sample - loss: 0.4075 - acc: 0.8636 - val_loss: 0.4008 - val_acc: 0.8036\n",
      "Epoch 43/100\n",
      "132/132 [==============================] - 0s 2ms/sample - loss: 0.3612 - acc: 0.8636 - val_loss: 0.4307 - val_acc: 0.8393\n",
      "Epoch 44/100\n",
      "132/132 [==============================] - 0s 2ms/sample - loss: 0.5658 - acc: 0.8409 - val_loss: 0.4753 - val_acc: 0.8036\n",
      "Epoch 45/100\n",
      "132/132 [==============================] - 0s 2ms/sample - loss: 0.4850 - acc: 0.8485 - val_loss: 0.7640 - val_acc: 0.7143\n",
      "Epoch 46/100\n",
      "132/132 [==============================] - 0s 2ms/sample - loss: 0.5316 - acc: 0.8030 - val_loss: 0.5920 - val_acc: 0.7857\n",
      "Epoch 47/100\n",
      "132/132 [==============================] - 0s 2ms/sample - loss: 0.4082 - acc: 0.8939 - val_loss: 0.3356 - val_acc: 0.8393\n",
      "Epoch 48/100\n",
      "132/132 [==============================] - 0s 2ms/sample - loss: 0.3798 - acc: 0.8864 - val_loss: 0.3379 - val_acc: 0.8750\n",
      "Epoch 49/100\n",
      "132/132 [==============================] - 0s 2ms/sample - loss: 0.4530 - acc: 0.8106 - val_loss: 0.3664 - val_acc: 0.8750\n",
      "Epoch 50/100\n",
      "132/132 [==============================] - 0s 2ms/sample - loss: 0.3484 - acc: 0.8636 - val_loss: 0.4831 - val_acc: 0.8571\n",
      "Epoch 51/100\n",
      "132/132 [==============================] - 0s 2ms/sample - loss: 0.5125 - acc: 0.8409 - val_loss: 0.4011 - val_acc: 0.8393\n",
      "Epoch 52/100\n",
      "132/132 [==============================] - 0s 2ms/sample - loss: 0.2806 - acc: 0.9242 - val_loss: 0.3615 - val_acc: 0.8214\n",
      "Epoch 53/100\n",
      "132/132 [==============================] - 0s 2ms/sample - loss: 0.3094 - acc: 0.8939 - val_loss: 0.4230 - val_acc: 0.8929\n",
      "Epoch 54/100\n",
      "132/132 [==============================] - 0s 2ms/sample - loss: 0.3744 - acc: 0.8864 - val_loss: 0.4706 - val_acc: 0.8214\n",
      "Epoch 55/100\n",
      "132/132 [==============================] - 0s 2ms/sample - loss: 0.2958 - acc: 0.9091 - val_loss: 0.4011 - val_acc: 0.8393\n",
      "Epoch 56/100\n",
      "132/132 [==============================] - 0s 2ms/sample - loss: 0.2604 - acc: 0.9167 - val_loss: 0.2949 - val_acc: 0.8393\n",
      "Epoch 57/100\n",
      "132/132 [==============================] - 0s 2ms/sample - loss: 0.3154 - acc: 0.9091 - val_loss: 0.2594 - val_acc: 0.8929\n",
      "Epoch 58/100\n",
      "132/132 [==============================] - 0s 2ms/sample - loss: 0.2517 - acc: 0.9318 - val_loss: 0.2422 - val_acc: 0.8929\n",
      "Epoch 59/100\n",
      "132/132 [==============================] - 0s 2ms/sample - loss: 0.2329 - acc: 0.9394 - val_loss: 0.2545 - val_acc: 0.9107\n",
      "Epoch 60/100\n",
      "132/132 [==============================] - 0s 2ms/sample - loss: 0.2422 - acc: 0.9242 - val_loss: 0.3663 - val_acc: 0.8929\n"
     ]
    },
    {
     "name": "stdout",
     "output_type": "stream",
     "text": [
      "Epoch 61/100\n",
      "132/132 [==============================] - 0s 1ms/sample - loss: 0.2478 - acc: 0.9394 - val_loss: 0.3118 - val_acc: 0.9107\n",
      "Epoch 62/100\n",
      "132/132 [==============================] - 0s 1ms/sample - loss: 0.3096 - acc: 0.9091 - val_loss: 0.2687 - val_acc: 0.8750\n",
      "Epoch 63/100\n",
      "132/132 [==============================] - 0s 1ms/sample - loss: 0.3204 - acc: 0.9091 - val_loss: 0.3120 - val_acc: 0.8571\n",
      "Epoch 64/100\n",
      "132/132 [==============================] - 0s 1ms/sample - loss: 0.2421 - acc: 0.9167 - val_loss: 0.3075 - val_acc: 0.8750\n",
      "Epoch 65/100\n",
      "132/132 [==============================] - 0s 1ms/sample - loss: 0.1695 - acc: 0.9470 - val_loss: 0.3614 - val_acc: 0.8214\n",
      "Epoch 66/100\n",
      "132/132 [==============================] - 0s 1ms/sample - loss: 0.2106 - acc: 0.9318 - val_loss: 0.5153 - val_acc: 0.8214\n",
      "Epoch 67/100\n",
      "132/132 [==============================] - 0s 1ms/sample - loss: 0.2686 - acc: 0.9015 - val_loss: 0.3443 - val_acc: 0.8571\n",
      "Epoch 68/100\n",
      "132/132 [==============================] - 0s 1ms/sample - loss: 0.1693 - acc: 0.9394 - val_loss: 0.2075 - val_acc: 0.8750\n",
      "Epoch 69/100\n",
      "132/132 [==============================] - 0s 2ms/sample - loss: 0.1638 - acc: 0.9545 - val_loss: 0.2093 - val_acc: 0.8929\n",
      "Epoch 70/100\n",
      "132/132 [==============================] - 0s 1ms/sample - loss: 0.1749 - acc: 0.9470 - val_loss: 0.2964 - val_acc: 0.8929\n",
      "Epoch 71/100\n",
      "132/132 [==============================] - 0s 1ms/sample - loss: 0.1513 - acc: 0.9545 - val_loss: 0.2716 - val_acc: 0.8750\n",
      "Epoch 72/100\n",
      "132/132 [==============================] - 0s 1ms/sample - loss: 0.1368 - acc: 0.9697 - val_loss: 0.2161 - val_acc: 0.9107\n",
      "Epoch 73/100\n",
      "132/132 [==============================] - 0s 1ms/sample - loss: 0.2325 - acc: 0.9091 - val_loss: 0.2984 - val_acc: 0.8571\n",
      "Epoch 74/100\n",
      "132/132 [==============================] - 0s 1ms/sample - loss: 0.2505 - acc: 0.9394 - val_loss: 0.3538 - val_acc: 0.8929\n",
      "Epoch 75/100\n",
      "132/132 [==============================] - 0s 1ms/sample - loss: 0.2110 - acc: 0.9091 - val_loss: 0.4417 - val_acc: 0.8571\n",
      "Epoch 76/100\n",
      "132/132 [==============================] - 0s 1ms/sample - loss: 0.3404 - acc: 0.8939 - val_loss: 0.4050 - val_acc: 0.8750\n",
      "Epoch 77/100\n",
      "132/132 [==============================] - 0s 1ms/sample - loss: 0.4039 - acc: 0.8939 - val_loss: 0.2091 - val_acc: 0.9286\n",
      "Epoch 78/100\n",
      "132/132 [==============================] - 0s 1ms/sample - loss: 0.2112 - acc: 0.9091 - val_loss: 0.4288 - val_acc: 0.8750\n",
      "Epoch 79/100\n",
      "132/132 [==============================] - 0s 1ms/sample - loss: 0.2582 - acc: 0.9318 - val_loss: 0.3290 - val_acc: 0.9286\n",
      "Epoch 80/100\n",
      "132/132 [==============================] - 0s 1ms/sample - loss: 0.1395 - acc: 0.9697 - val_loss: 0.2422 - val_acc: 0.8571\n",
      "Epoch 81/100\n",
      "132/132 [==============================] - 0s 1ms/sample - loss: 0.1931 - acc: 0.9545 - val_loss: 0.2314 - val_acc: 0.8929\n",
      "Epoch 82/100\n",
      "132/132 [==============================] - 0s 1ms/sample - loss: 0.1744 - acc: 0.9545 - val_loss: 0.5356 - val_acc: 0.8393\n",
      "Epoch 83/100\n",
      "132/132 [==============================] - 0s 1ms/sample - loss: 0.2560 - acc: 0.9242 - val_loss: 0.5168 - val_acc: 0.8036\n",
      "Epoch 84/100\n",
      "132/132 [==============================] - 0s 1ms/sample - loss: 0.1615 - acc: 0.9470 - val_loss: 0.2219 - val_acc: 0.9107\n",
      "Epoch 85/100\n",
      "132/132 [==============================] - 0s 1ms/sample - loss: 0.1918 - acc: 0.9470 - val_loss: 0.2459 - val_acc: 0.9464\n",
      "Epoch 86/100\n",
      "132/132 [==============================] - 0s 1ms/sample - loss: 0.1421 - acc: 0.9621 - val_loss: 0.2130 - val_acc: 0.8929\n",
      "Epoch 87/100\n",
      "132/132 [==============================] - 0s 1ms/sample - loss: 0.1466 - acc: 0.9545 - val_loss: 0.3211 - val_acc: 0.8571\n",
      "Epoch 88/100\n",
      "132/132 [==============================] - 0s 1ms/sample - loss: 0.1263 - acc: 0.9545 - val_loss: 0.4442 - val_acc: 0.8571\n",
      "Epoch 89/100\n",
      "132/132 [==============================] - 0s 2ms/sample - loss: 0.1373 - acc: 0.9545 - val_loss: 0.2603 - val_acc: 0.8929\n",
      "Epoch 90/100\n",
      "132/132 [==============================] - 0s 2ms/sample - loss: 0.1387 - acc: 0.9318 - val_loss: 0.2458 - val_acc: 0.9107\n",
      "Epoch 91/100\n",
      "132/132 [==============================] - 0s 1ms/sample - loss: 0.0676 - acc: 0.9924 - val_loss: 0.2772 - val_acc: 0.9107\n",
      "Epoch 92/100\n",
      "132/132 [==============================] - 0s 2ms/sample - loss: 0.0819 - acc: 0.9773 - val_loss: 0.3165 - val_acc: 0.8929\n",
      "Epoch 93/100\n",
      "132/132 [==============================] - 0s 1ms/sample - loss: 0.1245 - acc: 0.9621 - val_loss: 0.4207 - val_acc: 0.8929\n",
      "Epoch 94/100\n",
      "132/132 [==============================] - 0s 2ms/sample - loss: 0.1866 - acc: 0.9318 - val_loss: 0.4631 - val_acc: 0.8571\n",
      "Epoch 95/100\n",
      "132/132 [==============================] - 0s 1ms/sample - loss: 0.1295 - acc: 0.9545 - val_loss: 0.3329 - val_acc: 0.8571\n",
      "Epoch 96/100\n",
      "132/132 [==============================] - 0s 2ms/sample - loss: 0.1315 - acc: 0.9697 - val_loss: 0.2461 - val_acc: 0.8571\n",
      "Epoch 97/100\n",
      "132/132 [==============================] - 0s 2ms/sample - loss: 0.1005 - acc: 0.9621 - val_loss: 0.2625 - val_acc: 0.8750\n",
      "Epoch 98/100\n",
      "132/132 [==============================] - 0s 1ms/sample - loss: 0.1370 - acc: 0.9697 - val_loss: 0.2190 - val_acc: 0.9286\n",
      "Epoch 99/100\n",
      "132/132 [==============================] - 0s 1ms/sample - loss: 0.1355 - acc: 0.9545 - val_loss: 0.2705 - val_acc: 0.8929\n",
      "Epoch 100/100\n",
      "132/132 [==============================] - 0s 1ms/sample - loss: 0.1010 - acc: 0.9697 - val_loss: 0.2349 - val_acc: 0.8929\n"
     ]
    }
   ],
   "source": [
    "history = emoji_model.fit(\n",
    "    train_x, \n",
    "    train_y, \n",
    "    epochs = 100,  \n",
    "    shuffle=True,\n",
    "    validation_data=[test_x, test_y]\n",
    ")"
   ]
  },
  {
   "cell_type": "code",
   "execution_count": 59,
   "metadata": {},
   "outputs": [
    {
     "data": {
      "image/png": "[encoded data removed]",
      "text/plain": [
       "<Figure size 432x288 with 1 Axes>"
      ]
     },
     "metadata": {
      "image/png": {
       "height": 248,
       "width": 372
      },
      "needs_background": "light"
     },
     "output_type": "display_data"
    }
   ],
   "source": [
    "utils.plot_history(history, ['loss', 'val_loss'])\n",
    "#tenserflow check point/self-write a hook to stop at the best echo"
   ]
  },
  {
   "cell_type": "code",
   "execution_count": 60,
   "metadata": {},
   "outputs": [
    {
     "data": {
      "image/png": "[encoded data removed]",
      "text/plain": [
       "<Figure size 432x288 with 1 Axes>"
      ]
     },
     "metadata": {
      "image/png": {
       "height": 248,
       "width": 372
      },
      "needs_background": "light"
     },
     "output_type": "display_data"
    }
   ],
   "source": [
    "utils.plot_history(history, ['acc', 'val_acc'])"
   ]
  },
  {
   "cell_type": "code",
   "execution_count": 61,
   "metadata": {},
   "outputs": [
    {
     "name": "stdout",
     "output_type": "stream",
     "text": [
      "132/132 [==============================] - 0s 453us/sample - loss: 0.0130 - acc: 1.0000\n",
      "56/56 [==============================] - 0s 329us/sample - loss: 0.2349 - acc: 0.8929\n"
     ]
    },
    {
     "data": {
      "text/plain": [
       "[0.2348529047199658, 0.89285713]"
      ]
     },
     "execution_count": 61,
     "metadata": {},
     "output_type": "execute_result"
    }
   ],
   "source": [
    "emoji_model.evaluate(train_x, train_y)\n",
    "emoji_model.evaluate(test_x, test_y)"
   ]
  },
  {
   "cell_type": "markdown",
   "metadata": {},
   "source": [
    "### Sava and Load Models"
   ]
  },
  {
   "cell_type": "code",
   "execution_count": 62,
   "metadata": {},
   "outputs": [],
   "source": [
    "# import\n",
    "import h5py"
   ]
  },
  {
   "cell_type": "markdown",
   "metadata": {},
   "source": [
    "Two parts need to be saved inorder to use the model in prod:\n",
    "\n",
    "1. Neural Network Structure\n",
    "2. Trained Weights (Matrix)\n",
    "\n",
    "We will save them separately. This makes it easy to manage multiple versions of weights and you can always choose which version to go for production."
   ]
  },
  {
   "cell_type": "code",
   "execution_count": 63,
   "metadata": {},
   "outputs": [],
   "source": [
    "import os\n",
    "\n",
    "model_root = 'resources/emoji_model'\n",
    "os.makedirs(model_root, exist_ok=True)"
   ]
  },
  {
   "cell_type": "code",
   "execution_count": 64,
   "metadata": {},
   "outputs": [],
   "source": [
    "# Save model structure as json\n",
    "with open(os.path.join(model_root, \"network.json\"), \"w\") as fp:\n",
    "    fp.write(emoji_model.to_json())\n",
    "\n",
    "# Save model weights\n",
    "emoji_model.save_weights(os.path.join(model_root, \"weights.h5\"))"
   ]
  },
  {
   "cell_type": "markdown",
   "metadata": {},
   "source": [
    "Download and load a pretrained model "
   ]
  },
  {
   "cell_type": "code",
   "execution_count": 65,
   "metadata": {},
   "outputs": [
    {
     "name": "stdout",
     "output_type": "stream",
     "text": [
      "start downloading...\n",
      "start extracting compressed files...\n",
      "data files are now available at resources/emoji_model_best\n"
     ]
    }
   ],
   "source": [
    "network_path, weights_path = utils.download_best_emoji_model()"
   ]
  },
  {
   "cell_type": "code",
   "execution_count": 66,
   "metadata": {},
   "outputs": [],
   "source": [
    "from tensorflow.keras.models import model_from_json\n",
    "\n",
    "# Load model structure\n",
    "with open(network_path, \"r\") as fp:\n",
    "    emoji_model_best = model_from_json(fp.read())#model_from_json load model and set up the structure\n",
    "\n",
    "# Load model weights\n",
    "emoji_model_best.load_weights(weights_path)#load weights"
   ]
  },
  {
   "cell_type": "code",
   "execution_count": 67,
   "metadata": {},
   "outputs": [],
   "source": [
    "#compile model into binary to speed up the process\n",
    "#still need to compile a pretrained model\n",
    "emoji_model_best.compile( \n",
    "    loss='binary_crossentropy', \n",
    "    optimizer='adam', \n",
    "    metrics=['accuracy'])"
   ]
  },
  {
   "cell_type": "code",
   "execution_count": 68,
   "metadata": {},
   "outputs": [
    {
     "name": "stdout",
     "output_type": "stream",
     "text": [
      "132/132 [==============================] - 0s 3ms/sample - loss: 1.6881e-04 - acc: 1.0000\n",
      "56/56 [==============================] - 0s 596us/sample - loss: 0.2815 - acc: 0.9286\n"
     ]
    },
    {
     "data": {
      "text/plain": [
       "[0.2815101998192923, 0.9285714]"
      ]
     },
     "execution_count": 68,
     "metadata": {},
     "output_type": "execute_result"
    }
   ],
   "source": [
    "emoji_model_best.evaluate(train_x, train_y)\n",
    "emoji_model_best.evaluate(test_x, test_y)"
   ]
  },
  {
   "cell_type": "code",
   "execution_count": 69,
   "metadata": {},
   "outputs": [],
   "source": [
    "def predict(text):\n",
    "    x = utils.sentences_to_indices(\n",
    "        np.array([text]), \n",
    "        word_to_index, \n",
    "        maxlen)\n",
    "    \n",
    "    probs = emoji_model_best.predict(x)\n",
    "    pred = np.argmax(probs)\n",
    "    \n",
    "    print(text, utils.label_to_emoji(pred))"
   ]
  },
  {
   "cell_type": "code",
   "execution_count": 70,
   "metadata": {},
   "outputs": [
    {
     "name": "stdout",
     "output_type": "stream",
     "text": [
      "i am not feeling happy 😞\n"
     ]
    }
   ],
   "source": [
    "predict('i am not feeling happy')\n",
    "#sequence model can detect the effect of NOT on later part of the sentence"
   ]
  },
  {
   "cell_type": "markdown",
   "metadata": {},
   "source": [
    "## Mission Impossible\n",
    "\n",
    "<img src=\"resources/imf.png\" width=\"100px\">\n",
    "\n",
    "Now you've learned all the necessary building blocks for doing sentiment analysis, from the data preprocessing pipeline, the simple NB model, to the SOTA deep LSTM network. Now it's time for you to take a challenge!\n",
    "\n",
    "\n",
    "Your mission, should you choose to accept it, is to apply what we've learned and apply it to the IMDB dataset. You may write your own script for doing preprocessing, choose any models you like. You may also use any types of word embeddings (`Word2Vec`, `Spacy`, `FastText`), or even character level embeddings! Only the sky is the limit.\n",
    "\n",
    "The challenge is simple, **boost the accuracy on test dataset to above 90%**, which is 7% higher than our baseline model (MNB). If you make it, it will be a pretty strong indicator to prove that you've understand the data and the pipeline well, knowing where the bottleneck is and how to overcome it. \n",
    "\n",
    "As always, should you or any of your IM Force be caught or killed, the Secretary will disavow any knowledge of your actions. This notebook will self-destruct in five minutes. Good luck.\n",
    "\n",
    "5, 4, 3, 2, 1... No it will not self-destruct, I'm just kidding 😛\n",
    "\n",
    "### Some hints:\n",
    "\n",
    "1. Think about what information are missing during preprocessing. (e.g.: checkout `stopwords`)\n",
    "2. Should we limit the vocabulary even if we're using embedding?\n",
    "3. If so, how should we handle OOV word?\n",
    "4. How to choose the number of layers and number of units for LSTM?\n",
    "5. Need GPU? Colab or FloydHub is your friend! (Though I don't think it will make a real difference on NLP tasks.)\n",
    "\n",
    "> Please try your best as practice is the only way to understand something. But don't worry too much, I'll post my solution in a week :) "
   ]
  },
  {
   "cell_type": "code",
   "execution_count": null,
   "metadata": {},
   "outputs": [],
   "source": []
  }
 ],
 "metadata": {
  "kernelspec": {
   "display_name": "Python 3",
   "language": "python",
   "name": "python3"
  },
  "language_info": {
   "codemirror_mode": {
    "name": "ipython",
    "version": 3
   },
   "file_extension": ".py",
   "mimetype": "text/x-python",
   "name": "python",
   "nbconvert_exporter": "python",
   "pygments_lexer": "ipython3",
   "version": "3.7.3"
  }
 },
 "nbformat": 4,
 "nbformat_minor": 2
}
